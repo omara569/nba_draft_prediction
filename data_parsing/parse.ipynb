{
 "cells": [
  {
   "cell_type": "code",
   "execution_count": 1,
   "metadata": {},
   "outputs": [
    {
     "name": "stdout",
     "output_type": "stream",
     "text": [
      "                     Name University\n",
      "0  Keydren (Keekee) Clark        SPU\n",
      "1          Darshan Luckey       SFPA\n",
      "2               Adam Hess        W&M\n",
      "3              J.J. Barea         NE\n",
      "4        Mary Jane-Watson        CCP\n",
      "5         Jonny Hendricks      W-AAP\n",
      "6           Juan'ya Green        HOF\n",
      "7     Clide Geffrard, Jr.        SFA\n"
     ]
    }
   ],
   "source": [
    "import pandas as pd\n",
    "\n",
    "# Sample data\n",
    "data = {\"Name_University\": [\"Keydren (Keekee) ClarkSPU\", \"Darshan LuckeySFPA\", \"Adam HessW&M\", \n",
    "                            \"J.J. BareaNE\", \"Mary Jane-WatsonCCP\", \"Jonny HendricksW-AAP\", \"Juan'ya GreenHOF\", \"Clide Geffrard, Jr.SFA\"]}\n",
    "df = pd.DataFrame(data)\n",
    "\n",
    "# Extracting universities\n",
    "df[\"University\"] = df[\"Name_University\"].str.extract(r\"(?P<University>[A-Z&-]+)$\")\n",
    "\n",
    "# Removing the university part to get the name\n",
    "df[\"Name\"] = df[\"Name_University\"].str.extract(r\"(?P<Name>[,'A-Za-z\\s().-]+?)(?:[A-Z&-]+$|$)\")\n",
    "\n",
    "# Display the result\n",
    "print(df[[\"Name\", \"University\"]])\n"
   ]
  },
  {
   "cell_type": "code",
   "execution_count": 3,
   "metadata": {},
   "outputs": [],
   "source": [
    "ncaa_data = pd.read_csv()"
   ]
  }
 ],
 "metadata": {
  "kernelspec": {
   "display_name": "venv_NBA",
   "language": "python",
   "name": "python3"
  },
  "language_info": {
   "codemirror_mode": {
    "name": "ipython",
    "version": 3
   },
   "file_extension": ".py",
   "mimetype": "text/x-python",
   "name": "python",
   "nbconvert_exporter": "python",
   "pygments_lexer": "ipython3",
   "version": "3.11.1"
  }
 },
 "nbformat": 4,
 "nbformat_minor": 2
}
